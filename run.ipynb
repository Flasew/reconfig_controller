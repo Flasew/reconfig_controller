{
 "cells": [
  {
   "cell_type": "code",
   "execution_count": 14,
   "id": "79675bb6",
   "metadata": {
    "tags": []
   },
   "outputs": [
    {
     "name": "stderr",
     "output_type": "stream",
     "text": [
      "INFO:switch_ctrl:Qontroller 'Q8iv-037E' initialised with firmware v2.4.1 and 96 channels\n",
      "INFO:switch_ctrl:\n",
      "Zeroing Complete\n"
     ]
    },
    {
     "data": {
      "application/vnd.jupyter.widget-view+json": {
       "model_id": "7e44399bec52438191eb7ac4a105e9c6",
       "version_major": 2,
       "version_minor": 0
      },
      "text/plain": [
       "HBox(children=(Button(button_style='success', description='Config 1', style=ButtonStyle()), Button(button_styl…"
      ]
     },
     "metadata": {},
     "output_type": "display_data"
    },
    {
     "data": {
      "application/vnd.jupyter.widget-view+json": {
       "model_id": "e6c337dd538843a399776e98cca4f4e9",
       "version_major": 2,
       "version_minor": 0
      },
      "text/plain": [
       "Output(layout=Layout(border_bottom='1px solid #ccc', border_left='1px solid #ccc', border_right='1px solid #cc…"
      ]
     },
     "metadata": {},
     "output_type": "display_data"
    }
   ],
   "source": [
    "# ⬇️ Cell: hot-reloading switch/ICMP controls with dry-run support\n",
    "import time, importlib, ipywidgets as widgets\n",
    "from IPython.display import display\n",
    "\n",
    "import switch_config   # keep a handle so we can reload it later\n",
    "\n",
    "# -- quick toggles ------------------------------------------------------------\n",
    "DISABLE_ICMP = False   # True → don't touch ICMP controller\n",
    "DISABLE_SW   = False   # True → don't touch hardware; just print config voltages\n",
    "\n",
    "from switch_config import HostInformation\n",
    "if not DISABLE_SW: \n",
    "    from switch_ctrl import SwitchController\n",
    "if not DISABLE_ICMP:\n",
    "    from icmp_ctrl import ICMPController, get_public_ip\n",
    "    \n",
    "    \n",
    "# -- controller instances -----------------------------------------------------\n",
    "switch_controller = None\n",
    "icmp_controller   = None\n",
    "\n",
    "# -- helper: (re)load configs --------------------------------------------------\n",
    "def reload_configs():\n",
    "    \"\"\"\n",
    "    Re-import switch_config so edits on disk take effect immediately.\n",
    "    Also push the refreshed configs into any live controller objects.\n",
    "    \"\"\"\n",
    "    global switch_config, SW_CONFIGS, HOSTS\n",
    "    switch_config = importlib.reload(switch_config)\n",
    "\n",
    "    # pull the refreshed constants\n",
    "    SW_CONFIGS      = switch_config.SW_CONFIGS\n",
    "    HOSTS           = switch_config.HOSTS\n",
    "\n",
    "    # update existing controllers if they expose the same attr\n",
    "    if not DISABLE_SW and switch_controller is not None:\n",
    "        if hasattr(switch_controller, \"sw_configs\"):\n",
    "            switch_controller.sw_configs = SW_CONFIGS\n",
    "    if not DISABLE_ICMP and icmp_controller is not None:\n",
    "        if hasattr(icmp_controller, \"sw_configs\"):\n",
    "            icmp_controller.sw_configs = SW_CONFIGS\n",
    "\n",
    "# first load\n",
    "reload_configs()\n",
    "\n",
    "# -- import the rest *after* configs exist ------------------------------------\n",
    "from switch_config import HostInformation          # HostInformation is stable\n",
    "\n",
    "if not DISABLE_SW:\n",
    "    from switch_ctrl import SwitchController\n",
    "if not DISABLE_ICMP:\n",
    "    from icmp_ctrl import ICMPController, get_public_ip\n",
    "\n",
    "PRE_GUARD_MS, POST_GUARD_MS = 10, 5000\n",
    "\n",
    "\n",
    "if not DISABLE_SW:\n",
    "    switch_controller = SwitchController(\"/dev/ttyUSB1\", SW_CONFIGS)\n",
    "    switch_controller.zero(verify=False)\n",
    "\n",
    "if not DISABLE_ICMP:\n",
    "    icmp_controller = ICMPController(get_public_ip(), hosts=HOSTS, sw_configs=SW_CONFIGS)\n",
    "    \n",
    "reload_configs()\n",
    "\n",
    "# -- UI widgets ----------------------------------------------------------------\n",
    "out_log  = widgets.Output(layout={\"border\": \"1px solid #ccc\", \"max_height\": \"500px\", \"overflow\": \"auto\"})\n",
    "btn_cfg1 = widgets.Button(description=\"Config 1\", button_style=\"success\")\n",
    "btn_cfg2 = widgets.Button(description=\"Config 2\", button_style=\"info\")\n",
    "btn_zero = widgets.Button(description=\"Zero\",    button_style=\"warning\")\n",
    "\n",
    "# -- internal helpers ----------------------------------------------------------\n",
    "def _pretty_dump(cfg):\n",
    "    \"\"\"Human-friendly dump of relay/voltage pairs for dry-run mode.\"\"\"\n",
    "    try:\n",
    "        for ch, v in cfg.ring_configs:\n",
    "            print(f\"  Ring {ch:<2}: {v} V\")\n",
    "    except Exception:\n",
    "        print(cfg)\n",
    "\n",
    "def apply_config(cfg_idx: int):\n",
    "    reload_configs()                      # ← hot-reload on every click\n",
    "    cfg = SW_CONFIGS[cfg_idx]\n",
    "\n",
    "    out_log.clear_output(wait=True)\n",
    "    with out_log:\n",
    "        print(f\"▶ Switching to configuration {cfg_idx + 1} …\")\n",
    "\n",
    "    if not DISABLE_ICMP:\n",
    "        icmp_controller.reconfig_start(cfg_idx)\n",
    "    time.sleep(PRE_GUARD_MS/1000)\n",
    "\n",
    "    if not DISABLE_SW:\n",
    "        switch_controller.zero(verify=False)\n",
    "        switch_controller.set_configuration(cfg_idx)\n",
    "    else:\n",
    "        with out_log:\n",
    "            print(\"— Hardware disabled; dry-running:\")\n",
    "            _pretty_dump(cfg)\n",
    "\n",
    "    time.sleep(POST_GUARD_MS/1000)\n",
    "\n",
    "    if not DISABLE_ICMP:\n",
    "        icmp_controller.reconfig_finish(cfg_idx)\n",
    "    else:\n",
    "        print(\"ICMP disabled\")\n",
    "\n",
    "    with out_log:\n",
    "        print(f\"✓ Now at configuration {cfg_idx + 1}.\\n\")\n",
    "\n",
    "def zero_switch(_btn=None):\n",
    "    reload_configs()                      # keep parity with apply_config\n",
    "    out_log.clear_output(wait=True)\n",
    "\n",
    "    if not DISABLE_SW:\n",
    "        with out_log:\n",
    "            print(\"▶ Zeroing switch …\")\n",
    "        switch_controller.zero(verify=False)\n",
    "        with out_log:\n",
    "            print(\"✓ Switch zeroed.\")\n",
    "    else:\n",
    "        with out_log:\n",
    "            print(\"— Hardware disabled; nothing to zero.\")\n",
    "\n",
    "# -- wire callbacks & display --------------------------------------------------\n",
    "btn_cfg1.on_click(lambda _ : apply_config(0))\n",
    "btn_cfg2.on_click(lambda _ : apply_config(1))\n",
    "btn_zero.on_click(zero_switch)\n",
    "\n",
    "display(widgets.HBox([btn_cfg1, btn_cfg2, btn_zero]))\n",
    "display(out_log)\n"
   ]
  },
  {
   "cell_type": "code",
   "execution_count": null,
   "id": "aa0d2ead",
   "metadata": {},
   "outputs": [],
   "source": []
  }
 ],
 "metadata": {
  "kernelspec": {
   "display_name": "Python 3 (ipykernel)",
   "language": "python",
   "name": "python3"
  },
  "language_info": {
   "codemirror_mode": {
    "name": "ipython",
    "version": 3
   },
   "file_extension": ".py",
   "mimetype": "text/x-python",
   "name": "python",
   "nbconvert_exporter": "python",
   "pygments_lexer": "ipython3",
   "version": "3.10.4"
  }
 },
 "nbformat": 4,
 "nbformat_minor": 5
}
